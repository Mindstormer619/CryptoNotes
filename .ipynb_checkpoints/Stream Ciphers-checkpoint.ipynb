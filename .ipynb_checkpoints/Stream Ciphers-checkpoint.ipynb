{
 "cells": [
  {
   "cell_type": "markdown",
   "metadata": {},
   "source": [
    "# Symmetric Ciphers\n",
    "\n",
    "A symmetric cipher is denoted by the following things:\n",
    "\n",
    "It's defined over _three spaces_\n",
    "\n",
    "- A message space $\\mathcal{M}$\n",
    "- A keyspace $\\mathcal{K}$\n",
    "- A ciphertext space $\\mathcal{C}$\n",
    "\n",
    "It involves _two algorithms_:\n",
    "\n",
    "- The encryption algorithm $\\mathcal{E}$, mapping a message $m$ to a ciphertext $c$ given a key $k$.\n",
    "- The decryption algorithm $\\mathcal{D}$, mapping a ciphertext $c$ to a message $m$ given the same key $k$.\n",
    "\n",
    "Both these algorithms are to be \"_efficient_\" (not hard problems (run in polynomial time)).\n",
    "\n",
    "$$\n",
    "    \\mathcal{E} : \\mathcal{K} \\times \\mathcal{M} \\rightarrow \\mathcal{C} \\\\\n",
    "    \\mathcal{D} : \\mathcal{K} \\times \\mathcal{C} \\rightarrow \\mathcal{M} \\\\\n",
    "$$\n",
    "\n",
    "$$\n",
    "    \\text{Also, } \\mathcal{D}(k, \\mathcal{E}(k, m)) = m\n",
    "$$\n",
    "\n",
    "In other words, the encryption of a message under a key gives a ciphertext. The decryption of that ciphertext under the same key **must** return the same message."
   ]
  },
  {
   "cell_type": "markdown",
   "metadata": {},
   "source": [
    "# The One Time Pad\n",
    "\n",
    "## The Definition\n",
    "\n",
    "### Spaces\n",
    "\n",
    "$\\mathcal{M}, \\mathcal{C}, \\mathcal{K} : \\{0, 1\\}^n$\n",
    "\n",
    "Here $n$ is the number of bits you want for your message space.\n",
    "\n",
    "### Algorithms\n",
    "\n",
    "- $\\mathcal{E}(k, m) : c = k \\oplus m$\n",
    "- $\\mathcal{D}(k, c) : m = c \\oplus k$\n",
    "\n",
    "## Notes\n",
    "\n",
    "Note that the key $k$ for the One Time Pad can be used **only ONCE**. This is the whole reason we call it the One Time Pad.\n",
    "\n",
    "This method actually has perfect security. The major disadvantage is that the secret key must be created anew for each message and known to both parties, and also the key length is the same as the message length, so at that point you might as well transmit the message directly instead of finding some secret method to share the key.\n",
    "\n",
    "Below is an implementation of the One Time Pad."
   ]
  },
  {
   "cell_type": "code",
   "execution_count": 19,
   "metadata": {
    "collapsed": false
   },
   "outputs": [
    {
     "name": "stdout",
     "output_type": "stream",
     "text": [
      "Enter message string: my mother is a pain in the butt\n",
      "Key:  WViVdURMQEGiLOIyWSTrQXrLDopNUSE\n",
      "Ciphertext (hexform):  \":/I;\\x0b!:(#e.\\x1al.i\\t6::R86R8,\\nP, '1\"\n",
      "Original message:  my mother is a pain in the butt\n"
     ]
    }
   ],
   "source": [
    "import random, string\n",
    "\n",
    "def randomstr(length):\n",
    "    return ''.join(random.choice(string.ascii_letters) for i in xrange(length))\n",
    "\n",
    "def str_xor(s1, s2) :\n",
    "    # pairwise alphabets from the strings are returned by zip\n",
    "    # these are converted to numbers, then xor-ed, then made to a list, then joined as chars\n",
    "    return ''.join([chr(ord(c1)^ord(c2)) for (c1, c2) in zip(s1, s2)])\n",
    "\n",
    "message = raw_input('Enter message string: ')\n",
    "\n",
    "key = randomstr(len(message))\n",
    "\n",
    "print \"Key: \" , key\n",
    "\n",
    "cipher = str_xor(key, message)\n",
    "\n",
    "print \"Ciphertext (hexform): \", repr(cipher)\n",
    "\n",
    "print \"Original message: \", str_xor(key, cipher)"
   ]
  }
 ],
 "metadata": {
  "kernelspec": {
   "display_name": "Python 2",
   "language": "python",
   "name": "python2"
  },
  "language_info": {
   "codemirror_mode": {
    "name": "ipython",
    "version": 2
   },
   "file_extension": ".py",
   "mimetype": "text/x-python",
   "name": "python",
   "nbconvert_exporter": "python",
   "pygments_lexer": "ipython2",
   "version": "2.7.10"
  }
 },
 "nbformat": 4,
 "nbformat_minor": 0
}
