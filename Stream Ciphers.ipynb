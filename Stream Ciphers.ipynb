{
 "cells": [
  {
   "cell_type": "markdown",
   "metadata": {},
   "source": [
    "# Introduction\n",
    "\n",
    "Before we begin Stream Ciphers, we gotta take a look at what _symmetric ciphers_ are, and why we need stream ciphers."
   ]
  },
  {
   "cell_type": "markdown",
   "metadata": {},
   "source": [
    "# Symmetric Ciphers\n",
    "\n",
    "A symmetric cipher is denoted by the following things:\n",
    "\n",
    "It's defined over _three spaces_\n",
    "\n",
    "- A message space $\\mathcal{M}$\n",
    "- A keyspace $\\mathcal{K}$\n",
    "- A ciphertext space $\\mathcal{C}$\n",
    "\n",
    "It involves _two algorithms_:\n",
    "\n",
    "- The encryption algorithm $\\mathcal{E}$, mapping a message $m$ to a ciphertext $c$ given a key $k$.\n",
    "- The decryption algorithm $\\mathcal{D}$, mapping a ciphertext $c$ to a message $m$ given the same key $k$.\n",
    "\n",
    "Both these algorithms are to be \"_efficient_\" (not hard problems (run in polynomial time)).\n",
    "\n",
    "$$\n",
    "    \\mathcal{E} : \\mathcal{K} \\times \\mathcal{M} \\rightarrow \\mathcal{C} \\\\\n",
    "    \\mathcal{D} : \\mathcal{K} \\times \\mathcal{C} \\rightarrow \\mathcal{M} \\\\\n",
    "$$\n",
    "\n",
    "$$\n",
    "    \\text{Also, } \\mathcal{D}(k, \\mathcal{E}(k, m)) = m\n",
    "$$\n",
    "\n",
    "In other words, the encryption of a message under a key gives a ciphertext. The decryption of that ciphertext under the same key **must** return the same message."
   ]
  },
  {
   "cell_type": "markdown",
   "metadata": {},
   "source": [
    "# The One Time Pad\n",
    "\n",
    "## The Definition\n",
    "\n",
    "### Spaces\n",
    "\n",
    "$\\mathcal{M}, \\mathcal{C}, \\mathcal{K} : \\{0, 1\\}^n$\n",
    "\n",
    "Here $n$ is the number of bits you want for your message space.\n",
    "\n",
    "### Algorithms\n",
    "\n",
    "- $\\mathcal{E}(k, m) : c = k \\oplus m$\n",
    "- $\\mathcal{D}(k, c) : m = c \\oplus k$\n",
    "\n",
    "## Notes\n",
    "\n",
    "Note that the key $k$ for the One Time Pad can be used **only ONCE**. This is the whole reason we call it the One Time Pad.\n",
    "\n",
    "This method actually has perfect security. The major disadvantage is that the secret key must be created anew for each message and known to both parties, and also the key length is the same as the message length, so at that point you might as well transmit the message directly instead of finding some secret method to share the key.\n",
    "\n",
    "Below is an implementation of the One Time Pad."
   ]
  },
  {
   "cell_type": "code",
   "execution_count": 20,
   "metadata": {
    "collapsed": false
   },
   "outputs": [
    {
     "name": "stdout",
     "output_type": "stream",
     "text": [
      "Enter message string: this is fun\n",
      "Key:  nlasgLNpRnq\n",
      "Ciphertext (hexform):  '\\x1a\\x04\\x08\\x00G%=P4\\x1b\\x1f'\n",
      "Original message:  this is fun\n"
     ]
    }
   ],
   "source": [
    "import random, string\n",
    "\n",
    "def randomstr(length):\n",
    "    return ''.join(random.choice(string.ascii_letters) for i in xrange(length))\n",
    "\n",
    "def str_xor(s1, s2) :\n",
    "    # pairwise alphabets from the strings are returned by zip\n",
    "    # these are converted to numbers, then xor-ed, then made to a list, then joined as chars\n",
    "    return ''.join([chr(ord(c1)^ord(c2)) for (c1, c2) in zip(s1, s2)])\n",
    "\n",
    "message = raw_input('Enter message string: ')\n",
    "\n",
    "key = randomstr(len(message))\n",
    "\n",
    "print \"Key: \" , key\n",
    "\n",
    "ciphertext = str_xor(key, message)\n",
    "\n",
    "print \"Ciphertext (hexform): \", repr(ciphertext)\n",
    "\n",
    "print \"Original message: \", str_xor(key, ciphertext)"
   ]
  },
  {
   "cell_type": "markdown",
   "metadata": {},
   "source": [
    "# Shannon's Perfect Secrecy\n",
    "\n",
    "The basic idea is this: _The ciphertext must reveal **NO** information about the plaintext or the key._\n",
    "\n",
    "## Formal Definition\n",
    "\n",
    "A cipher $(\\mathcal{E}, \\mathcal{D})$ has _perfect secrecy_ if:\n",
    "\n",
    "$$\n",
    "    \\text{Pr}[\\mathcal{E}(k, m_0) = c] = \\text{Pr}[\\mathcal{E}(k, m_1) = c] \\quad \\forall (m_0, m_1) \\in \\mathcal{M}\n",
    "$$\n",
    "\n",
    "where $m_0$ and $m_1$ lie in the message space,  \n",
    "$k \\in \\mathcal{K}$ and is uniformly distributed over it,  \n",
    "$c \\in \\mathcal{C}$\n",
    "\n",
    "## Friendly Definition\n",
    "\n",
    "The whole point, as given in the first line, is that the ciphertext must tell _nothing_ about the plaintext. Thus, as the key is what hinges together the whole cryptosystem, it is imperative for the key to not be biased in distribution. Moreover, if the attacker gets his hands on a ciphertext, they must not be able to tell if the message is some $m_1$, or some $m2$, or anything else really. In other words, for all pairs $m_0$ and $m_1$ in the message space, the attacker will not be able to _distinguish_ from the ciphertext if the original message is one or the other, simply because the probability of any of those messages being the original is exactly the same.\n",
    "\n",
    "Simply put, you just can't tell what the message is from the ciphertext. This is in line with the basic aim for perfect secrecy.\n",
    "\n",
    "## Perfect Secrecy for a One Time Pad\n",
    "\n",
    "A OTP has perfect secrecy. Intuitively, we can understand this easily enough. Consider that the XOR operation is basically a bit-flip or a no-bit-flip. If the second input to the XOR is 0, it retains the first input. If the input is 1, it flips the first input.\n",
    "\n",
    "In other words:\n",
    "\n",
    "$$\n",
    "    x \\oplus 0 = x \\\\\n",
    "    x \\oplus 1 = x\\text{-flipped}\n",
    "$$\n",
    "\n",
    "Thus, a randomly generated one-time key (uniformly distributed over the keyspace) will either flip or not flip each bit in the message string with an equal probability. In other words, given say a bit 1 in the ciphertext, we have no idea if the message originally contained a flipped bit (0) or a non-flipped bit (1). This makes the message perfectly unintelligible to the attacker who has no knowledge of the key.\n",
    "\n",
    "## Notes\n",
    "\n",
    "Turns out, Shannon proved that if you need perfect secrecy, the number of keys in the keyspace must be greater than or equal to the number of possible messages. In other words, $\\left | \\mathcal{K} \\right | \\geq \\left | \\mathcal{M} \\right |$.\n",
    "\n",
    "If we want all possible messages of length $n$ bits, then naturally according to the above, the length of the _keys_ themselves must be equal to or more than the length of the messages.\n",
    "\n",
    "That sucks. That _really_ sucks. It essentially means that communicating your key securely to a third party will in essence be at least just as hard as communicating the message itself directly, making the OTP not very useful for actual communication."
   ]
  },
  {
   "cell_type": "markdown",
   "metadata": {},
   "source": [
    "----\n",
    "\n",
    "----"
   ]
  },
  {
   "cell_type": "markdown",
   "metadata": {},
   "source": [
    "# Stream Ciphers\n",
    "\n",
    "Why do we need a stream cipher? As explained right above, a One Time Pad is totally useless for actual communication, as the length of the key must be equal to the message length (at the least), so we'd rather transmit the message directly instead of transmitting keys.\n",
    "\n",
    "Here, instead of using a random key as done in the One Time Pad, we'll be using a pseudorandom key that's generated using a random \"master\" key."
   ]
  },
  {
   "cell_type": "markdown",
   "metadata": {},
   "source": [
    "# Pseudorandom Numbers\n",
    "\n",
    "A PseudoRandom Number Generator (PRNG) is a function that takes a \"seed\" input and generates a \"random\" output. The idea is this: the size of the output must be significantly greater than the size of the input. Also, being a function (in the mathematical sense), for the same seed input, the function must give the same output.\n",
    "\n",
    "Mathematically, the PRNG is a function $\\mathcal{G}$ defined on:\n",
    "\n",
    "$$\n",
    "    \\mathcal{G} : \\{0, 1\\}^s \\rightarrow \\{0, 1\\}^n  \\qquad n \\gg s\n",
    "$$\n",
    "\n",
    "where $n$ is the size of the \"random\" output and $s$ is the size of the seed.\n",
    "\n",
    "Some requirements are present:\n",
    "\n",
    "- $\\mathcal{G}$ is a deterministic, \"efficient\" function.\n",
    "- The output of $\\mathcal{G}$ should _look random_.\n",
    "\n",
    "Mathematically, the definition of what makes a cryptographically secure PRNG, or a **CSPRNG**, is the factor of **unpredictability.** The output of the PRNG must not be _predictable_.\n",
    "\n",
    "## Unpredictability\n",
    "\n",
    "Unpredictability of a PRNG simply means that, given some initial bits churned out by the PRNG with some key (seed), there must be no way to predict the following bits efficiently.\n",
    "\n",
    "In other words, for a predictable PRNG, there exists some $i$ such that given $\\mathcal{G}(k) \\mid  _{1, 2, .., i}$, we can use an efficient (polynomial-time) algorithm to get bits $\\mathcal{G}(k)  \\mid _{i+1, i+2, .., n}$.\n",
    "\n",
    "The attack for this works in a pretty simple manner. The attacker has access to the ciphertext traveling on the unsecured network. If he knows a small initial portion of the message (for example, HTTP headers which always follow the same format) and XORs it with the ciphertext, he can get the initial few bits of the PRNG. If these bits are enough to predict the next $r$ bits of the PRNG, then he can simply XOR those predicted bits with the ciphertext to recover more bits of the message.\n",
    "\n",
    "Mathematically then, an predictable PRNG can be defined as follows:\n",
    "\n",
    "An predictable PRNG is a PRNG where there exists a polynomial-time algorithm $\\mathcal{A}$ and a number of bits $i$ such that\n",
    "\n",
    "$$\n",
    "    \\text{Pr}[\\mathcal{A}(\\mathcal{G}(k)\\mid _{1..i})\\ = \\mathcal{G}(k)\\mid _{i+1}] \\geq \\frac{1}{2} + \\epsilon\n",
    "$$\n",
    "\n",
    "where $k$ is the key (seed), for some $\\epsilon$ that's non-negligible.\n",
    "\n",
    "Thus, simply by inverting the above, an unpredictable PRNG must have the property that for all $i$, the value output cannot be predicted by an efficient algorithm."
   ]
  },
  {
   "cell_type": "markdown",
   "metadata": {},
   "source": [
    "# Building a Stream Cipher\n",
    "\n"
   ]
  }
 ],
 "metadata": {
  "kernelspec": {
   "display_name": "Python 2",
   "language": "python",
   "name": "python2"
  },
  "language_info": {
   "codemirror_mode": {
    "name": "ipython",
    "version": 2
   },
   "file_extension": ".py",
   "mimetype": "text/x-python",
   "name": "python",
   "nbconvert_exporter": "python",
   "pygments_lexer": "ipython2",
   "version": "2.7.10"
  }
 },
 "nbformat": 4,
 "nbformat_minor": 0
}
